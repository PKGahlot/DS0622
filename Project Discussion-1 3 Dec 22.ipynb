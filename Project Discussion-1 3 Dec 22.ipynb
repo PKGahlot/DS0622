{
 "cells": [
  {
   "cell_type": "code",
   "execution_count": 2,
   "id": "abac0772",
   "metadata": {},
   "outputs": [
    {
     "data": {
      "text/plain": [
       "'hello batch, welcome to the project phase'"
      ]
     },
     "execution_count": 2,
     "metadata": {},
     "output_type": "execute_result"
    }
   ],
   "source": [
    "DataScience= \"hello batch, welcome to the project phase\"\n",
    "DataScience"
   ]
  },
  {
   "cell_type": "code",
   "execution_count": null,
   "id": "04a47e3c",
   "metadata": {},
   "outputs": [],
   "source": []
  }
 ],
 "metadata": {
  "kernelspec": {
   "display_name": "Python 3 (ipykernel)",
   "language": "python",
   "name": "python3"
  },
  "language_info": {
   "codemirror_mode": {
    "name": "ipython",
    "version": 3
   },
   "file_extension": ".py",
   "mimetype": "text/x-python",
   "name": "python",
   "nbconvert_exporter": "python",
   "pygments_lexer": "ipython3",
   "version": "3.9.12"
  }
 },
 "nbformat": 4,
 "nbformat_minor": 5
}
